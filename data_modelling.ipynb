{
 "cells": [
  {
   "cell_type": "code",
   "execution_count": null,
   "id": "68edf61e",
   "metadata": {},
   "outputs": [],
   "source": [
    "#dependencies and load data"
   ]
  },
  {
   "cell_type": "code",
   "execution_count": null,
   "id": "8d396782",
   "metadata": {},
   "outputs": [],
   "source": [
    "# Generate summary statistics\n",
    "crashes_df.describe()"
   ]
  },
  {
   "cell_type": "code",
   "execution_count": null,
   "id": "edcadfef",
   "metadata": {},
   "outputs": [],
   "source": [
    "# Use the `StandardScaler()` module from scikit-learn to normalize the data from the CSV file\n",
    "crashes_scaled = StandardScaler().fit_transform(crashes_df[[\"X\", \"Y\", \"DAY_OF_WEEK\", \"NODE_ID\", \"LONGITUDE\", \"LATITUDE\", \"VICGRID_X\", \"VICGRID_Y\", \"TOTAL_PERSONS\", \"TOTAL_PERSONS\", \"INJ_OR_FATAL\", \"FATALITY\", \"SERIOUSINJURY\",\"OTHERINJURY\", \"NONINJURED\", \"MALES\", \"FEMALES\", \"BICYCLIST\", \"PASSENGER\", \"PILLION\",\"MOTORIST\", \"UNKNOWN\", \"PED_CYCLIST_5_12\", \"PED_CYCLIST_13_18\", \"OLD_PEDESTRIAN\", \"OLD_DRIVER\", \"YOUNG_DRIVER\", \"UNLICENCSED\", \"NO_OF_VEHICLES\", \"HEAVYVEHICLE\", \"PASSENGERVEHICLE\", \"MOTORCYCLE\", \"PUBLICVEHICLE\"]])\n"
   ]
  },
  {
   "cell_type": "code",
   "execution_count": null,
   "id": "da8bee6c",
   "metadata": {},
   "outputs": [],
   "source": [
    "# Create a DataFrame with the scaled data\n",
    "crashes_scaled_df=pd.DataFrame(crashes_scaled, columns=[\"X\", \"Y\", \"DAY_OF_WEEK\", \"NODE_ID\", \"LONGITUDE\", \"LATITUDE\", \"VICGRID_X\", \"VICGRID_Y\", \"TOTAL_PERSONS\", \"TOTAL_PERSONS\", \"INJ_OR_FATAL\", \"FATALITY\", \"SERIOUSINJURY\",\"OTHERINJURY\", \"NONINJURED\", \"MALES\", \"FEMALES\", \"BICYCLIST\", \"PASSENGER\", \"PILLION\",\"MOTORIST\", \"UNKNOWN\", \"PED_CYCLIST_5_12\", \"PED_CYCLIST_13_18\", \"OLD_PEDESTRIAN\", \"OLD_DRIVER\", \"YOUNG_DRIVER\", \"UNLICENCSED\", \"NO_OF_VEHICLES\", \"HEAVYVEHICLE\", \"PASSENGERVEHICLE\", \"MOTORCYCLE\", \"PUBLICVEHICLE\"])\n",
    "crashes_scaled_df.head()"
   ]
  },
  {
   "cell_type": "code",
   "execution_count": null,
   "id": "ebf1da05",
   "metadata": {},
   "outputs": [],
   "source": [
    "# Create a list with the number of k-values from 1 to 11\n",
    "k = list(range(1, 25))"
   ]
  },
  {
   "cell_type": "code",
   "execution_count": null,
   "id": "547db0e4",
   "metadata": {},
   "outputs": [],
   "source": [
    "# Create an empty list to store the inertia values\n",
    "inertia = []\n",
    "\n",
    "# Create a for loop to compute the inertia with each possible value of k\n",
    "# Inside the loop:\n",
    "# 1. Create a KMeans model using the loop counter for the n_clusters\n",
    "# 2. Fit the model to the data using `df_market_data_scaled`\n",
    "# 3. Append the model.inertia_ to the inertia list\n",
    "\n",
    "for i in k:\n",
    "    k_model = KMeans(n_clusters=i, random_state=1)\n",
    "    k_model.fit(crashes_scaled_df)\n",
    "    inertia.append(k_model.inertia_)"
   ]
  },
  {
   "cell_type": "code",
   "execution_count": null,
   "id": "fcac1da2",
   "metadata": {},
   "outputs": [],
   "source": [
    "# Create a dictionary with the data to plot the Elbow curve\n",
    "elbow_data = {\"k\": k, \"inertia\": inertia}\n",
    "\n",
    "# Create a DataFrame with the data to plot the Elbow curve\n",
    "df_elbow = pd.DataFrame(elbow_data)"
   ]
  },
  {
   "cell_type": "code",
   "execution_count": null,
   "id": "e17c0b04",
   "metadata": {},
   "outputs": [],
   "source": [
    "# Plot a line chart with all the inertia values computed with \n",
    "# the different values of k to visually identify the optimal value for k.\n",
    "df_elbow.hvplot.line(\n",
    "    x=\"k\", \n",
    "    y=\"inertia\", \n",
    "    title=\"Elbow Curve\", \n",
    "    xticks=k\n",
    ")"
   ]
  }
 ],
 "metadata": {
  "kernelspec": {
   "display_name": "Python 3 (ipykernel)",
   "language": "python",
   "name": "python3"
  },
  "language_info": {
   "codemirror_mode": {
    "name": "ipython",
    "version": 3
   },
   "file_extension": ".py",
   "mimetype": "text/x-python",
   "name": "python",
   "nbconvert_exporter": "python",
   "pygments_lexer": "ipython3",
   "version": "3.10.13"
  }
 },
 "nbformat": 4,
 "nbformat_minor": 5
}
